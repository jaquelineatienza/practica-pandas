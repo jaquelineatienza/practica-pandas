{
 "cells": [
  {
   "cell_type": "markdown",
   "id": "3f2761d5",
   "metadata": {},
   "source": [
    "# Introducción a Pandas para ciencia de datos - Series.\n",
    "\n",
    "1. Para crear una serie, primero debemos preparar  nuestro entorno virtual, donde vamos a trabajar.\n",
    "\n",
    "En Windows\n",
    " `py -m venv env`\n",
    "\n",
    "En Linux y Mac\n",
    "`python3 -m venv env`\n",
    "\n",
    "2. Activar el entorno virtual\n",
    "\n",
    "En Windows\n",
    "`.\\env\\Script\\activate\\`\n",
    "En Linux y Mac\n",
    "`source env/bin/activate`\n",
    "3. Instalar Pandas"
   ]
  },
  {
   "cell_type": "markdown",
   "id": "419854c3",
   "metadata": {},
   "source": [
    "### Crear una serie\n",
    "**Primero, importamos la libreria Pandas y le asignamos el alias `pd`.**"
   ]
  },
  {
   "cell_type": "code",
   "execution_count": 25,
   "id": "7016afd6",
   "metadata": {},
   "outputs": [],
   "source": [
    "import pandas as pd\n",
    "import random"
   ]
  },
  {
   "cell_type": "markdown",
   "id": "34556c05",
   "metadata": {},
   "source": [
    "Ahora, vamos a definir nuestra primera Series, para eso utilizaremos Series de pandas\n",
    "utilizaremos este ejemplo por ahora: \n",
    "\n",
    "`lista = [random.randint(1,100) for i in range(10)]`"
   ]
  },
  {
   "cell_type": "code",
   "execution_count": 26,
   "id": "09023a32",
   "metadata": {},
   "outputs": [],
   "source": [
    "lista = [random.randint(1, 100) for i in range(10)]\n"
   ]
  },
  {
   "cell_type": "markdown",
   "id": "f3ef2449",
   "metadata": {},
   "source": [
    "Utilizaremos la lista aleatoria para generar nuestra primera Series"
   ]
  },
  {
   "cell_type": "code",
   "execution_count": 27,
   "id": "b59b08c7",
   "metadata": {},
   "outputs": [
    {
     "name": "stdout",
     "output_type": "stream",
     "text": [
      "0     8\n",
      "1    99\n",
      "2    46\n",
      "3    71\n",
      "4    87\n",
      "5    40\n",
      "6    90\n",
      "7    79\n",
      "8    46\n",
      "9    62\n",
      "dtype: int64\n"
     ]
    }
   ],
   "source": [
    "serie = pd.Series(lista)\n",
    "print(serie)"
   ]
  },
  {
   "cell_type": "markdown",
   "id": "2e0b8317",
   "metadata": {},
   "source": [
    "### Cambiando el index\n",
    "Con los datos generados, ahora crearemos un index para los valores actuales. \n",
    "[\"Manzanas\", \"Pan\", \"Leche\", \"Huevos\", \"Arroz\", \"Pollo\", \"Tomates\", \"Aceite de oliva\", \"Queso\", \"Café\"]"
   ]
  },
  {
   "cell_type": "code",
   "execution_count": 37,
   "id": "5d87de1e",
   "metadata": {},
   "outputs": [
    {
     "name": "stdout",
     "output_type": "stream",
     "text": [
      "Manzanas           89\n",
      "Pan                54\n",
      "Leche              62\n",
      "Huevos             91\n",
      "Arroz              15\n",
      "Pollo              55\n",
      "Tomates            18\n",
      "Aceite de oliva    85\n",
      "Queso              61\n",
      "Café               74\n",
      "dtype: int64\n"
     ]
    }
   ],
   "source": [
    "lista = [random.randint(1, 100) for i in range(10)]\n",
    "index =[\"Manzanas\", \"Pan\", \"Leche\", \"Huevos\", \"Arroz\", \"Pollo\", \"Tomates\", \"Aceite de oliva\", \"Queso\", \"Café\"]\n",
    "serie = pd.Series(lista, index=index)\n",
    "print(serie)"
   ]
  },
  {
   "cell_type": "markdown",
   "id": "cc1573c1",
   "metadata": {},
   "source": [
    "### Crear series a partir de Diccionarios\n",
    "\n",
    "En este caso las key tomaran el valor del index de las series, utilizaremos este ejemplo para mostrarlo\n",
    "\n",
    "notas = {\"matematicas\":60, \"lengua\":20, \"historia\":0 }"
   ]
  },
  {
   "cell_type": "code",
   "execution_count": 29,
   "id": "7c5a2003",
   "metadata": {},
   "outputs": [],
   "source": [
    "nota ={\"matematicas\":40,\"lengua\":30}\n"
   ]
  },
  {
   "cell_type": "markdown",
   "id": "55cdd751",
   "metadata": {},
   "source": [
    "## Metodos Básicos\n"
   ]
  },
  {
   "cell_type": "markdown",
   "id": "ac31966a",
   "metadata": {},
   "source": [
    "### Acceder a los primeros 5 elementos\n",
    "Con el metodo `head()` podemos acceder a los primeros 5 elementos, tambien podemos especificarle la cantidad que queremos observar. "
   ]
  },
  {
   "cell_type": "code",
   "execution_count": 30,
   "id": "4f888fa7",
   "metadata": {},
   "outputs": [
    {
     "name": "stdout",
     "output_type": "stream",
     "text": [
      "Manzanas    94\n",
      "Pan         67\n",
      "Leche       63\n",
      "Huevos      31\n",
      "Arroz       80\n",
      "dtype: int64\n"
     ]
    }
   ],
   "source": [
    "print(serie.head())"
   ]
  },
  {
   "cell_type": "markdown",
   "id": "303859d2",
   "metadata": {},
   "source": [
    "### Acceder a los ultimos elementos\n",
    "Con el metodo `tail()` podemos ver los ultimos registros. (pasarle un indice si se requiere, de lo contrario solo seran 5 al igual que head)"
   ]
  },
  {
   "cell_type": "code",
   "execution_count": 31,
   "id": "28b5437f",
   "metadata": {},
   "outputs": [
    {
     "name": "stdout",
     "output_type": "stream",
     "text": [
      "Pollo              30\n",
      "Tomates            55\n",
      "Aceite de oliva    58\n",
      "Queso              96\n",
      "Café               40\n",
      "dtype: int64\n"
     ]
    }
   ],
   "source": [
    "print(serie.tail())"
   ]
  },
  {
   "cell_type": "markdown",
   "id": "7b8022ec",
   "metadata": {},
   "source": [
    "### Obtener valores maximos, minimos, promedio, desviacion estandar y media\n",
    "\n",
    "Para ello, utilizaremos los siguientes metodos: \n",
    "* max() <- valor máximo.\n",
    "* min() <- valor mínimo. \n",
    "* mean() <- valor promedio.\n",
    "* std()  <- obtener desviacion estandar\n",
    "* median() obtener la media"
   ]
  },
  {
   "cell_type": "code",
   "execution_count": 32,
   "id": "cf97490b",
   "metadata": {},
   "outputs": [
    {
     "name": "stdout",
     "output_type": "stream",
     "text": [
      "max 96\n",
      "min 30\n",
      "promedio 61.4\n",
      "desviacion estandar 23.71216284244579\n",
      "media 60.5\n"
     ]
    }
   ],
   "source": [
    "\n",
    "#max\n",
    "print(\"max\",serie.max())\n",
    "#min\n",
    "print(\"min\",serie.min())\n",
    "#promedio\n",
    "print(\"promedio\",serie.mean())\n",
    "#desviacion standar\n",
    "print(\"desviacion estandar\",serie.std())\n",
    "#obtener la media\n",
    "print(\"media\",serie.median())"
   ]
  },
  {
   "cell_type": "markdown",
   "id": "596ed953",
   "metadata": {},
   "source": [
    "### Aplicar condiciones\n",
    "Podemos filtrar valores utilizando condiciones"
   ]
  },
  {
   "cell_type": "code",
   "execution_count": 38,
   "id": "43c90071",
   "metadata": {},
   "outputs": [
    {
     "name": "stdout",
     "output_type": "stream",
     "text": [
      "False\n"
     ]
    },
    {
     "name": "stderr",
     "output_type": "stream",
     "text": [
      "C:\\Users\\IPF-2025\\AppData\\Local\\Temp\\ipykernel_4348\\1366554621.py:1: FutureWarning: Series.__getitem__ treating keys as positions is deprecated. In a future version, integer keys will always be treated as labels (consistent with DataFrame behavior). To access a value by position, use `ser.iloc[pos]`\n",
      "  result = serie[4]>30\n"
     ]
    }
   ],
   "source": [
    "result = serie[4]>30\n",
    "print(result)"
   ]
  },
  {
   "cell_type": "markdown",
   "id": "0c79ffd0",
   "metadata": {},
   "source": [
    "Podemos mejorar los resultados utilizando la siguiente estructura: \n",
    "\n",
    "`serie[serie condicion valor]`"
   ]
  },
  {
   "cell_type": "code",
   "execution_count": 39,
   "id": "01247623",
   "metadata": {},
   "outputs": [
    {
     "data": {
      "text/plain": [
       "Arroz      15\n",
       "Tomates    18\n",
       "dtype: int64"
      ]
     },
     "execution_count": 39,
     "metadata": {},
     "output_type": "execute_result"
    }
   ],
   "source": [
    "serie[serie<30]"
   ]
  },
  {
   "cell_type": "markdown",
   "id": "79034137",
   "metadata": {},
   "source": [
    "### Operaciones Básicas con Series en Pandas\n",
    "\n",
    "Las Series en pandas permiten realizar operaciones matemáticas y lógicas de manera sencilla. Algunas de las operaciones básicas son:\n",
    "\n"
   ]
  },
  {
   "cell_type": "markdown",
   "id": "e36ed0e9",
   "metadata": {},
   "source": [
    "**Suma, Resta, Multiplicación y División**:\n",
    "    Puedes realizar operaciones aritméticas directamente entre Series o con valores escalares.\n",
    "\n",
    "    Ejemplo:\n",
    "    ```python\n",
    "    nueva_series + 10  # Suma 10 a cada elemento de la Series\n",
    "    nueva_series * 2   # Multiplica cada elemento por 2\n",
    "    ```"
   ]
  },
  {
   "cell_type": "code",
   "execution_count": 40,
   "id": "eda13d3c",
   "metadata": {},
   "outputs": [
    {
     "ename": "TypeError",
     "evalue": "can only concatenate list (not \"int\") to list",
     "output_type": "error",
     "traceback": [
      "\u001b[31m---------------------------------------------------------------------------\u001b[39m",
      "\u001b[31mTypeError\u001b[39m                                 Traceback (most recent call last)",
      "\u001b[36mCell\u001b[39m\u001b[36m \u001b[39m\u001b[32mIn[40]\u001b[39m\u001b[32m, line 4\u001b[39m\n\u001b[32m      1\u001b[39m lista = [random.randint(\u001b[32m1\u001b[39m, \u001b[32m100\u001b[39m) \u001b[38;5;28;01mfor\u001b[39;00m i \u001b[38;5;129;01min\u001b[39;00m \u001b[38;5;28mrange\u001b[39m(\u001b[32m10\u001b[39m)]\n\u001b[32m      2\u001b[39m lista2 = [random.randint(\u001b[32m1\u001b[39m, \u001b[32m100\u001b[39m) \u001b[38;5;28;01mfor\u001b[39;00m i \u001b[38;5;129;01min\u001b[39;00m \u001b[38;5;28mrange\u001b[39m(\u001b[32m10\u001b[39m)]\n\u001b[32m----> \u001b[39m\u001b[32m4\u001b[39m \u001b[38;5;28mprint\u001b[39m(\u001b[33m'\u001b[39m\u001b[33msuma\u001b[39m\u001b[33m'\u001b[39m,\u001b[43mlista\u001b[49m\u001b[43m+\u001b[49m\u001b[32;43m10\u001b[39;49m)\n\u001b[32m      5\u001b[39m \u001b[38;5;28mprint\u001b[39m(\u001b[33m'\u001b[39m\u001b[33mresta\u001b[39m\u001b[33m'\u001b[39m,lista-\u001b[32m10\u001b[39m)\n",
      "\u001b[31mTypeError\u001b[39m: can only concatenate list (not \"int\") to list"
     ]
    }
   ],
   "source": [
    "lista = [random.randint(1, 100) for i in range(10)]\n",
    "lista2 = [random.randint(1, 100) for i in range(10)]\n",
    "\n",
    "print('suma',lista+10)\n",
    "print('resta',lista-10)\n"
   ]
  },
  {
   "cell_type": "markdown",
   "id": "b6b514aa",
   "metadata": {},
   "source": [
    "\n",
    "**Operaciones entre Series**:\n",
    "    Si tienes dos Series con índices compatibles, puedes realizar operaciones entre ellas.\n",
    "\n",
    "    Ejemplo:\n",
    "    ```python\n",
    "    nueva_series + materias  # Combina valores de ambas Series según sus índices\n",
    "    ```\n",
    "\n",
    "**NOTA: en caso de que al sumar las series sean de diferentes tamaños, es decir, que los indices no coincidan, el resultado de los valores incorrectos sera NaN**\n",
    "\n",
    "**NOTA2: las sumas se hacen teniendo en cuenta el indice! no las posiciones en las que se muestran**"
   ]
  },
  {
   "cell_type": "code",
   "execution_count": null,
   "id": "86c54fda",
   "metadata": {},
   "outputs": [],
   "source": [
    "lista = [random.randint(1, 100) for i in range(10)]\n",
    "lista2 = [random.randint(1, 100) for i in range(10)]\n",
    "\n",
    "index =[\"Manzanas\", \"Pan\", \"Leche\", \"Huevos\", \"Arroz\", \"Pollo\", \"Tomates\", \"Aceite de oliva\", \"Queso\", \"Café\"]\n",
    "serie= pd.Series(lista,index=index)\n",
    "serie2= pd.Series(lista2,index=index)\n",
    "result= serie+serie2\n",
    "print(result)"
   ]
  },
  {
   "cell_type": "markdown",
   "id": "d600f5a6",
   "metadata": {},
   "source": [
    "### Propiedades fundamentales de las series.\n",
    "\n",
    "serie.size -> devuelve el numero de elementos de una serie\n",
    "\n",
    "serie.index -> devuelve una lista con los nombres de las filas (tambien valido para dataframes)\n",
    "\n",
    "serie.dtype ->  devuelve el tipo de datos de los elementos de la serie"
   ]
  },
  {
   "cell_type": "code",
   "execution_count": null,
   "id": "7e9ee6f6",
   "metadata": {},
   "outputs": [],
   "source": []
  }
 ],
 "metadata": {
  "kernelspec": {
   "display_name": "parcial",
   "language": "python",
   "name": "python3"
  },
  "language_info": {
   "codemirror_mode": {
    "name": "ipython",
    "version": 3
   },
   "file_extension": ".py",
   "mimetype": "text/x-python",
   "name": "python",
   "nbconvert_exporter": "python",
   "pygments_lexer": "ipython3",
   "version": "3.13.3"
  }
 },
 "nbformat": 4,
 "nbformat_minor": 5
}
