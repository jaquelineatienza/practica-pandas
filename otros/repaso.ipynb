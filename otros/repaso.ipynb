{
 "cells": [
  {
   "cell_type": "markdown",
   "id": "cdd939b5",
   "metadata": {},
   "source": [
    "# Limpieza y Visualización de Datos con Pandas y Matplotlib\n",
    "\n",
    "Para esto, debemos realizar lo siguiente: \n",
    "\n",
    "1. Cargar y explorar un dataset.\n",
    "\n",
    "2. Aplicar técnicas de limpieza usando pandas.\n",
    "\n",
    "3. Convertir datos (fechas, números, categorías).\n",
    "\n",
    "4. Visualizar los datos limpios con matplotlib para obtener insights."
   ]
  },
  {
   "cell_type": "markdown",
   "id": "7ca602b8",
   "metadata": {},
   "source": [
    "### Requerimientos: \n",
    "1. Entorno Virtual.\n",
    "2. Datasets.\n",
    "3. Librerias: Pandas, sqlite3, Matplotlib."
   ]
  },
  {
   "cell_type": "markdown",
   "id": "4103ec4d",
   "metadata": {
    "vscode": {
     "languageId": "plaintext"
    }
   },
   "source": [
    "**Para realizar esto, debemos instalar las siguientes dependencias** "
   ]
  },
  {
   "cell_type": "code",
   "execution_count": 173,
   "id": "135e0599",
   "metadata": {
    "vscode": {
     "languageId": "powershell"
    }
   },
   "outputs": [
    {
     "name": "stdout",
     "output_type": "stream",
     "text": [
      "Requirement already satisfied: pandas in c:\\users\\ipf-2025\\appdata\\local\\programs\\python\\python312\\lib\\site-packages (2.2.3)\n",
      "Requirement already satisfied: matplotlib in c:\\users\\ipf-2025\\appdata\\local\\programs\\python\\python312\\lib\\site-packages (3.10.3)\n",
      "Requirement already satisfied: numpy>=1.26.0 in c:\\users\\ipf-2025\\appdata\\local\\programs\\python\\python312\\lib\\site-packages (from pandas) (2.2.5)\n",
      "Requirement already satisfied: python-dateutil>=2.8.2 in c:\\users\\ipf-2025\\appdata\\roaming\\python\\python312\\site-packages (from pandas) (2.9.0.post0)\n",
      "Requirement already satisfied: pytz>=2020.1 in c:\\users\\ipf-2025\\appdata\\local\\programs\\python\\python312\\lib\\site-packages (from pandas) (2025.2)\n",
      "Requirement already satisfied: tzdata>=2022.7 in c:\\users\\ipf-2025\\appdata\\local\\programs\\python\\python312\\lib\\site-packages (from pandas) (2025.2)\n",
      "Requirement already satisfied: contourpy>=1.0.1 in c:\\users\\ipf-2025\\appdata\\local\\programs\\python\\python312\\lib\\site-packages (from matplotlib) (1.3.2)\n",
      "Requirement already satisfied: cycler>=0.10 in c:\\users\\ipf-2025\\appdata\\local\\programs\\python\\python312\\lib\\site-packages (from matplotlib) (0.12.1)\n",
      "Requirement already satisfied: fonttools>=4.22.0 in c:\\users\\ipf-2025\\appdata\\local\\programs\\python\\python312\\lib\\site-packages (from matplotlib) (4.57.0)\n",
      "Requirement already satisfied: kiwisolver>=1.3.1 in c:\\users\\ipf-2025\\appdata\\local\\programs\\python\\python312\\lib\\site-packages (from matplotlib) (1.4.8)\n",
      "Requirement already satisfied: packaging>=20.0 in c:\\users\\ipf-2025\\appdata\\roaming\\python\\python312\\site-packages (from matplotlib) (25.0)\n",
      "Requirement already satisfied: pillow>=8 in c:\\users\\ipf-2025\\appdata\\local\\programs\\python\\python312\\lib\\site-packages (from matplotlib) (11.2.1)\n",
      "Requirement already satisfied: pyparsing>=2.3.1 in c:\\users\\ipf-2025\\appdata\\local\\programs\\python\\python312\\lib\\site-packages (from matplotlib) (3.2.3)\n",
      "Requirement already satisfied: six>=1.5 in c:\\users\\ipf-2025\\appdata\\roaming\\python\\python312\\site-packages (from python-dateutil>=2.8.2->pandas) (1.17.0)\n",
      "Note: you may need to restart the kernel to use updated packages.\n"
     ]
    },
    {
     "name": "stderr",
     "output_type": "stream",
     "text": [
      "\n",
      "[notice] A new release of pip is available: 24.3.1 -> 25.1.1\n",
      "[notice] To update, run: python.exe -m pip install --upgrade pip\n"
     ]
    }
   ],
   "source": [
    "pip install pandas matplotlib"
   ]
  },
  {
   "cell_type": "markdown",
   "id": "da08d151",
   "metadata": {},
   "source": [
    "## Extración de datos con Pandas\n",
    "Vamos a utilizar pandas para leer nuestro csv"
   ]
  },
  {
   "cell_type": "code",
   "execution_count": 174,
   "id": "3f87198a",
   "metadata": {},
   "outputs": [],
   "source": [
    "# importar librerías\n",
    "import pandas as pd"
   ]
  },
  {
   "cell_type": "markdown",
   "id": "b545603a",
   "metadata": {},
   "source": [
    "**Creamos nuestro DF**\n",
    "\n",
    "En el caso de que nos de un error de decodificación, podriamos utilizar el encoding \"ISO-8859-1\""
   ]
  },
  {
   "cell_type": "code",
   "execution_count": 190,
   "id": "c0a544fa",
   "metadata": {},
   "outputs": [],
   "source": [
    "import sqlite3\n",
    "dataset = pd.read_csv('datasets.csv', on_bad_lines='skip')\n",
    "df = pd.DataFrame(dataset)"
   ]
  },
  {
   "cell_type": "markdown",
   "id": "75767f9f",
   "metadata": {},
   "source": [
    "### Explorar el datasets\n",
    "Ahora debemos utilizar funciones de pandas para poder explorar los tipos de datos que tenemos y obviamente ver si tenemos datos nulos o inservibles. "
   ]
  },
  {
   "cell_type": "code",
   "execution_count": 176,
   "id": "511f1374",
   "metadata": {},
   "outputs": [
    {
     "name": "stdout",
     "output_type": "stream",
     "text": [
      "Nombre             1\n",
      "Edad              14\n",
      "Email              7\n",
      "Fecha_Registro     0\n",
      "Ingresos           8\n",
      "Genero             4\n",
      "Comentario        24\n",
      "dtype: int64\n"
     ]
    }
   ],
   "source": [
    "print(df.isnull().sum())"
   ]
  },
  {
   "cell_type": "code",
   "execution_count": 177,
   "id": "07995e7c",
   "metadata": {},
   "outputs": [
    {
     "name": "stdout",
     "output_type": "stream",
     "text": [
      "            Nombre Edad                Email Fecha_Registro       Ingresos  \\\n",
      "0        Juan Prez   29      juanperez@gmail     2021-03-15         $3,000   \n",
      "1        Mara Lpez  NaN  m.lopez@outlook.com     15/04/2021           4000   \n",
      "2       jose lopez  NaN           joselopez@     2021/05/20        3500.00   \n",
      "3         Ana Gmez   31  ana_gomez@gmail.com     2021-06-01            NaN   \n",
      "4        Juan Prez   29      juanperez@gmail     2021-03-15         $3,000   \n",
      "5              NaN   45                  NaN     2021-07-12        5000.50   \n",
      "6     Lucas Torres   27   lucastorres@correo     2021-08-01           4800   \n",
      "7        Mara Lpez   30  m.lopez@outlook.com     2021-04-15           4000   \n",
      "8   Laura Fernndez   26     laura@correo.com     2021-09-01  not available   \n",
      "9         Jos Lpez   30  joselopez@gmail.com     2021-10-10          3.600   \n",
      "10      Carlos Daz  NaN           carlos123@     2021/11/01       $4000.00   \n",
      "11      Sofa Mndez   32                sofa@     01/12/2021            NaN   \n",
      "12     Luca Romero   29        lucia.romero@     2021-13-01           3000   \n",
      "13       Pedro Nez   40     pedro@correo.com     2021-05-40            NaN   \n",
      "14       Juan Prez   29      juanperez@gmail     2021-03-15          3,000   \n",
      "15       Mara Lpez  NaN  m.lopez@outlook.com     2021/04/15           4000   \n",
      "16      jose lopez   30  joselopez@gmail.com     20-05-2021  not available   \n",
      "17        Ana Gmez  abc  ana_gomez@gmail.com     2021-06-01           4500   \n",
      "18    Lucas Torres   27                  NaN     2021-08-01           4800   \n",
      "19  Laura Fernndez   26     laura@correo.com     01/09/2021         $3.800   \n",
      "\n",
      "       Genero         Comentario  \n",
      "0           M  Cliente frecuente  \n",
      "1           F  Cliente Frecuente  \n",
      "2           M                NaN  \n",
      "3           f                NaN  \n",
      "4           M  Cliente frecuente  \n",
      "5           M                NaN  \n",
      "6   MASCULINO        Cliente VIP  \n",
      "7           F                NaN  \n",
      "8           F      Cliente nuevo  \n",
      "9           M                NaN  \n",
      "10          M  Cliente frecuente  \n",
      "11   FEMENINO                NaN  \n",
      "12          m                NaN  \n",
      "13          M                NaN  \n",
      "14          M  Cliente frecuente  \n",
      "15          F                NaN  \n",
      "16          m                NaN  \n",
      "17          f  Cliente Frecuente  \n",
      "18   FEMENINO                NaN  \n",
      "19          f                NaN  \n"
     ]
    }
   ],
   "source": [
    "print(df.head(20))\n"
   ]
  },
  {
   "cell_type": "markdown",
   "id": "fc98139b",
   "metadata": {},
   "source": [
    "# Limpieza de Datos\n",
    "3. **Conversión de Tipos y Estandarización** \n",
    "\n",
    "* Edad: Convertir a numérico, usando errors=\"coerce\" para transformar valores inválidos en NaN.\n",
    "\n",
    "* Fecha_Registro: Convertir las fechas a formato datetime.\n",
    "\n",
    "* Ingresos: Remover símbolos y convertir a numérico.\n",
    "\n",
    "* Genero: Estandarizar los valores (\"MASCULINO\" o \"m\" a \"M\", \"FEMENINO\" o \"f\" a \"F\").\n",
    "\n",
    "* Nombres: Corregir la capitalización y quitar espacios extras."
   ]
  },
  {
   "cell_type": "markdown",
   "id": "21e8f73c",
   "metadata": {},
   "source": [
    "### Convertir Edad a numérico\n",
    "Edad: Convertir a numérico con to_numeric() usando errors=\"coerce\" para transformar valores inválidos en NaN."
   ]
  },
  {
   "cell_type": "code",
   "execution_count": 178,
   "id": "2af54dc1",
   "metadata": {},
   "outputs": [
    {
     "name": "stdout",
     "output_type": "stream",
     "text": [
      "           Nombre      Edad                Email Fecha_Registro  \\\n",
      "0       Juan Prez  29.00000      juanperez@gmail     2021-03-15   \n",
      "1       Mara Lpez  30.21875  m.lopez@outlook.com     15/04/2021   \n",
      "2      jose lopez  30.21875           joselopez@     2021/05/20   \n",
      "3        Ana Gmez  31.00000  ana_gomez@gmail.com     2021-06-01   \n",
      "4       Juan Prez  29.00000      juanperez@gmail     2021-03-15   \n",
      "5             NaN  45.00000                  NaN     2021-07-12   \n",
      "6    Lucas Torres  27.00000   lucastorres@correo     2021-08-01   \n",
      "7       Mara Lpez  30.00000  m.lopez@outlook.com     2021-04-15   \n",
      "8  Laura Fernndez  26.00000     laura@correo.com     2021-09-01   \n",
      "9        Jos Lpez  30.00000  joselopez@gmail.com     2021-10-10   \n",
      "\n",
      "        Ingresos     Genero         Comentario  \n",
      "0         $3,000          M  Cliente frecuente  \n",
      "1           4000          F  Cliente Frecuente  \n",
      "2        3500.00          M                NaN  \n",
      "3            NaN          f                NaN  \n",
      "4         $3,000          M  Cliente frecuente  \n",
      "5        5000.50          M                NaN  \n",
      "6           4800  MASCULINO        Cliente VIP  \n",
      "7           4000          F                NaN  \n",
      "8  not available          F      Cliente nuevo  \n",
      "9          3.600          M                NaN  \n"
     ]
    }
   ],
   "source": [
    "# Convertir Edad a numérico\n",
    "df['Edad'] = pd.to_numeric(df['Edad'], errors='coerce')\n",
    "\n",
    "df['Edad'] = df['Edad'].fillna(df['Edad'].mean())\n",
    "print(df.head(10))"
   ]
  },
  {
   "cell_type": "markdown",
   "id": "bf823ec4",
   "metadata": {},
   "source": [
    "### Convertir Fecha_Registro a datetime\n"
   ]
  },
  {
   "cell_type": "code",
   "execution_count": 192,
   "id": "4d6776b7",
   "metadata": {},
   "outputs": [
    {
     "name": "stdout",
     "output_type": "stream",
     "text": [
      "           Nombre Edad                Email Fecha_Registro       Ingresos  \\\n",
      "0       Juan Prez   29      juanperez@gmail     2021-03-15         $3,000   \n",
      "1       Mara Lpez  NaN  m.lopez@outlook.com            NaT           4000   \n",
      "2      jose lopez  NaN           joselopez@            NaT        3500.00   \n",
      "3        Ana Gmez   31  ana_gomez@gmail.com     2021-06-01            NaN   \n",
      "4       Juan Prez   29      juanperez@gmail     2021-03-15         $3,000   \n",
      "5             NaN   45                  NaN     2021-07-12        5000.50   \n",
      "6    Lucas Torres   27   lucastorres@correo     2021-08-01           4800   \n",
      "7       Mara Lpez   30  m.lopez@outlook.com     2021-04-15           4000   \n",
      "8  Laura Fernndez   26     laura@correo.com     2021-09-01  not available   \n",
      "9        Jos Lpez   30  joselopez@gmail.com     2021-10-10          3.600   \n",
      "\n",
      "      Genero         Comentario  \n",
      "0          M  Cliente frecuente  \n",
      "1          F  Cliente Frecuente  \n",
      "2          M                NaN  \n",
      "3          f                NaN  \n",
      "4          M  Cliente frecuente  \n",
      "5          M                NaN  \n",
      "6  MASCULINO        Cliente VIP  \n",
      "7          F                NaN  \n",
      "8          F      Cliente nuevo  \n",
      "9          M                NaN  \n"
     ]
    }
   ],
   "source": [
    "# Convertir Fecha_Registro a datetime (detecta errores y asigna NaT)\n",
    "df['Fecha_Registro'] = pd.to_datetime(df['Fecha_Registro'], errors='coerce')\n",
    "print(df.head(10))\n"
   ]
  },
  {
   "cell_type": "markdown",
   "id": "3a548723",
   "metadata": {},
   "source": [
    "### Limpiar columna de ingresos\n",
    "Para ello, esta vez utilizaremos el siguiente REGEX \n",
    "* \"[\\$,]\", \"\", regex=True"
   ]
  },
  {
   "cell_type": "code",
   "execution_count": 180,
   "id": "e177fcbb",
   "metadata": {},
   "outputs": [
    {
     "name": "stdout",
     "output_type": "stream",
     "text": [
      "           Nombre      Edad                Email Fecha_Registro  Ingresos  \\\n",
      "0       Juan Prez  29.00000      juanperez@gmail     2021-03-15    3000.0   \n",
      "1       Mara Lpez  30.21875  m.lopez@outlook.com            NaT    4000.0   \n",
      "2      jose lopez  30.21875           joselopez@            NaT    3500.0   \n",
      "3        Ana Gmez  31.00000  ana_gomez@gmail.com     2021-06-01       NaN   \n",
      "4       Juan Prez  29.00000      juanperez@gmail     2021-03-15    3000.0   \n",
      "5             NaN  45.00000                  NaN     2021-07-12    5000.5   \n",
      "6    Lucas Torres  27.00000   lucastorres@correo     2021-08-01    4800.0   \n",
      "7       Mara Lpez  30.00000  m.lopez@outlook.com     2021-04-15    4000.0   \n",
      "8  Laura Fernndez  26.00000     laura@correo.com     2021-09-01       NaN   \n",
      "9        Jos Lpez  30.00000  joselopez@gmail.com     2021-10-10       3.6   \n",
      "\n",
      "      Genero         Comentario  \n",
      "0          M  Cliente frecuente  \n",
      "1          F  Cliente Frecuente  \n",
      "2          M                NaN  \n",
      "3          f                NaN  \n",
      "4          M  Cliente frecuente  \n",
      "5          M                NaN  \n",
      "6  MASCULINO        Cliente VIP  \n",
      "7          F                NaN  \n",
      "8          F      Cliente nuevo  \n",
      "9          M                NaN  \n"
     ]
    }
   ],
   "source": [
    "#elimina el $\n",
    "df['Ingresos'] = df['Ingresos'].str.replace(r\"[\\$,]\", \"\", regex=True)\n",
    "df[\"Ingresos\"]= pd.to_numeric(df['Ingresos'],errors='coerce')\n",
    "print(df.head(10))\n"
   ]
  },
  {
   "cell_type": "code",
   "execution_count": 181,
   "id": "0ca66313",
   "metadata": {},
   "outputs": [
    {
     "name": "stdout",
     "output_type": "stream",
     "text": [
      "            Nombre      Edad                Email Fecha_Registro  Ingresos  \\\n",
      "0        Juan Prez  29.00000      juanperez@gmail     2021-03-15    3000.0   \n",
      "1        Mara Lpez  30.21875  m.lopez@outlook.com            NaT    4000.0   \n",
      "2       jose lopez  30.21875           joselopez@            NaT    3500.0   \n",
      "3         Ana Gmez  31.00000  ana_gomez@gmail.com     2021-06-01    3600.0   \n",
      "4        Juan Prez  29.00000      juanperez@gmail     2021-03-15    3000.0   \n",
      "5              NaN  45.00000                  NaN     2021-07-12    5000.5   \n",
      "6     Lucas Torres  27.00000   lucastorres@correo     2021-08-01    4800.0   \n",
      "7        Mara Lpez  30.00000  m.lopez@outlook.com     2021-04-15    4000.0   \n",
      "8   Laura Fernndez  26.00000     laura@correo.com     2021-09-01    3600.0   \n",
      "9         Jos Lpez  30.00000  joselopez@gmail.com     2021-10-10       3.6   \n",
      "10      Carlos Daz  30.21875           carlos123@            NaT    4000.0   \n",
      "11      Sofa Mndez  32.00000                sofa@            NaT    3600.0   \n",
      "12     Luca Romero  29.00000        lucia.romero@            NaT    3000.0   \n",
      "13       Pedro Nez  40.00000     pedro@correo.com            NaT    3600.0   \n",
      "14       Juan Prez  29.00000      juanperez@gmail     2021-03-15    3000.0   \n",
      "15       Mara Lpez  30.21875  m.lopez@outlook.com            NaT    4000.0   \n",
      "16      jose lopez  30.00000  joselopez@gmail.com            NaT    3600.0   \n",
      "17        Ana Gmez  30.21875  ana_gomez@gmail.com     2021-06-01    4500.0   \n",
      "18    Lucas Torres  27.00000                  NaN     2021-08-01    4800.0   \n",
      "19  Laura Fernndez  26.00000     laura@correo.com            NaT       3.8   \n",
      "\n",
      "       Genero         Comentario  \n",
      "0           M  Cliente frecuente  \n",
      "1           F  Cliente Frecuente  \n",
      "2           M                NaN  \n",
      "3           f                NaN  \n",
      "4           M  Cliente frecuente  \n",
      "5           M                NaN  \n",
      "6   MASCULINO        Cliente VIP  \n",
      "7           F                NaN  \n",
      "8           F      Cliente nuevo  \n",
      "9           M                NaN  \n",
      "10          M  Cliente frecuente  \n",
      "11   FEMENINO                NaN  \n",
      "12          m                NaN  \n",
      "13          M                NaN  \n",
      "14          M  Cliente frecuente  \n",
      "15          F                NaN  \n",
      "16          m                NaN  \n",
      "17          f  Cliente Frecuente  \n",
      "18   FEMENINO                NaN  \n",
      "19          f                NaN  \n"
     ]
    }
   ],
   "source": [
    "df['Ingresos'] = df['Ingresos'].fillna(df['Ingresos'].median())\n",
    "print(df.head(20))"
   ]
  },
  {
   "cell_type": "markdown",
   "id": "9ce1b888",
   "metadata": {},
   "source": [
    "### Estandarizar Género\n",
    "Estandarizar los valores (\"MASCULINO\" o \"m\" a \"M\", \"FEMENINO\" o \"f\" a \"F\")."
   ]
  },
  {
   "cell_type": "code",
   "execution_count": 206,
   "id": "25975a80",
   "metadata": {},
   "outputs": [
    {
     "name": "stdout",
     "output_type": "stream",
     "text": [
      "0            M\n",
      "1            F\n",
      "2            M\n",
      "3            F\n",
      "4            M\n",
      "5            M\n",
      "6            M\n",
      "7            F\n",
      "8            F\n",
      "9            M\n",
      "10           M\n",
      "11           F\n",
      "12           M\n",
      "13           M\n",
      "14           M\n",
      "15           F\n",
      "16           M\n",
      "17           F\n",
      "18           F\n",
      "19           F\n",
      "20         NaN\n",
      "21           M\n",
      "22           M\n",
      "23    $4000.00\n",
      "24         NaN\n",
      "25           F\n",
      "26           M\n",
      "27           M\n",
      "28           F\n",
      "29           M\n",
      "30           M\n",
      "31           F\n",
      "32         NaN\n",
      "33           F\n",
      "34           M\n",
      "35           F\n",
      "36           M\n",
      "37           M\n",
      "38           F\n",
      "39           M\n",
      "40           M\n",
      "41         NaN\n",
      "42           F\n",
      "43           F\n",
      "44           M\n",
      "45           M\n",
      "46           F\n",
      "47           M\n",
      "Name: Genero, dtype: object\n"
     ]
    }
   ],
   "source": [
    "#Cambia de minuscula a mayuscula\n",
    "df['Genero'] = df['Genero'].str.upper()\n",
    "#cambia el masculino/femenino a F y M\n",
    "df['Genero'] = df['Genero'].replace('MASCULINO',\"M\")\n",
    "df['Genero'] = df['Genero'].replace('FEMENINO',\"F\")\n",
    "print(df['Genero'])"
   ]
  },
  {
   "cell_type": "markdown",
   "id": "58c88253",
   "metadata": {},
   "source": [
    "### Normalizar Nombres\n",
    "\n",
    " Corregir la capitalización y quitar espacios extras."
   ]
  },
  {
   "cell_type": "code",
   "execution_count": 183,
   "id": "a8a943f4",
   "metadata": {},
   "outputs": [
    {
     "name": "stdout",
     "output_type": "stream",
     "text": [
      "       Nombre      Edad                Email Fecha_Registro  Ingresos Genero  \\\n",
      "0   Juan Prez  29.00000      juanperez@gmail     2021-03-15    3000.0      M   \n",
      "1   Mara Lpez  30.21875  m.lopez@outlook.com            NaT    4000.0      F   \n",
      "2  Jose Lopez  30.21875           joselopez@            NaT    3500.0      M   \n",
      "3    Ana Gmez  31.00000  ana_gomez@gmail.com     2021-06-01    3600.0      F   \n",
      "4   Juan Prez  29.00000      juanperez@gmail     2021-03-15    3000.0      M   \n",
      "\n",
      "          Comentario  \n",
      "0  Cliente frecuente  \n",
      "1  Cliente Frecuente  \n",
      "2                NaN  \n",
      "3                NaN  \n",
      "4  Cliente frecuente  \n"
     ]
    }
   ],
   "source": [
    "df['Nombre'] = df['Nombre'].str.strip().str.replace(r'\\s+', ' ', regex=True).str.title()\n",
    "print(df.head())"
   ]
  },
  {
   "cell_type": "markdown",
   "id": "0613dda0",
   "metadata": {},
   "source": [
    "### Manejo de Valores Nulos\n",
    "Ahora debemos buscar los valores nulos actuales."
   ]
  },
  {
   "cell_type": "code",
   "execution_count": 184,
   "id": "20cc3bef",
   "metadata": {},
   "outputs": [
    {
     "name": "stdout",
     "output_type": "stream",
     "text": [
      "Nombre             1\n",
      "Edad               0\n",
      "Email              7\n",
      "Fecha_Registro    16\n",
      "Ingresos           0\n",
      "Genero             4\n",
      "Comentario        24\n",
      "dtype: int64\n"
     ]
    }
   ],
   "source": [
    "isNull = df.isnull().sum()\n",
    "print(isNull)"
   ]
  },
  {
   "cell_type": "markdown",
   "id": "a31c590d",
   "metadata": {},
   "source": [
    "**Podriamos aplicar metodos como imputación en columnas claves, tales como en edad o ingresos**\n",
    "\n",
    "Imputar significa reemplazar datos faltantes (NaN) con un valor estimado para evitar perder información o eliminar filas completas."
   ]
  },
  {
   "cell_type": "markdown",
   "id": "5599847f",
   "metadata": {},
   "source": [
    "¿Por qué usar la mediana?\n",
    "La mediana es resistente a valores extremos. Si tenés un dato raro como una edad de 120 años, no va a afectar tanto como afectaría el promedio."
   ]
  },
  {
   "cell_type": "code",
   "execution_count": 185,
   "id": "0b151095",
   "metadata": {},
   "outputs": [
    {
     "name": "stdout",
     "output_type": "stream",
     "text": [
      "     a\n",
      "0  1.0\n",
      "1  0.0\n",
      "2  3.0\n"
     ]
    }
   ],
   "source": [
    "import pandas as pd\n",
    "df = pd.DataFrame({'a': [1, None, 3]})\n",
    "print(df.fillna(0))\n"
   ]
  },
  {
   "cell_type": "markdown",
   "id": "f458bcb7",
   "metadata": {},
   "source": [
    "¿Por qué usar la media acá?\n",
    "En ingresos, muchas veces la distribución no es tan sesgada como en edades (aunque podría serlo), así que la media es una buena primera aproximación"
   ]
  },
  {
   "cell_type": "markdown",
   "id": "a14c35cb",
   "metadata": {},
   "source": [
    "### Matplotlib\n",
    "Matplotlib es una biblioteca de visualización de datos para el lenguaje de programación Python. Se utiliza principalmente para crear gráficos estáticos, interactivos y animados en dos dimensiones (2D), aunque tiene algunas capacidades básicas en 3D.\n",
    "Matplotlib está mayormente escrito en Python, pero también incluye componentes en C, C++ y Objective-C (para algunas partes del renderizado y para integrarse con diferentes backends gráficos como Agg, Qt, GTK, etc.)."
   ]
  },
  {
   "cell_type": "markdown",
   "id": "f4a712e2",
   "metadata": {},
   "source": [
    "### Histograma de Edades con matplotlib\n",
    "\n",
    "Este gráfico permite ver la distribución de la edad de los clientes.\n",
    "\n",
    "Puntos a resaltar:\n",
    "\n",
    "Uso de dropna() para evitar problemas con valores faltantes.\n",
    "\n",
    "Configuración de etiquetas, título y estilo."
   ]
  },
  {
   "cell_type": "code",
   "execution_count": null,
   "id": "a75debac",
   "metadata": {},
   "outputs": [],
   "source": [
    "\n"
   ]
  },
  {
   "cell_type": "markdown",
   "id": "58716c32",
   "metadata": {},
   "source": [
    "### Serie Temporal de Registros\n",
    "Visualizar la evolución de registros en el tiempo, usando la fecha de registro.\n",
    "\n",
    "Puntos a resaltar:\n",
    "\n",
    "Agrupar por fechas y visualizar tendencias temporales.\n",
    "\n",
    "La importancia de formatear fechas y ajustar la visualización."
   ]
  },
  {
   "cell_type": "code",
   "execution_count": 193,
   "id": "fc8b8f22",
   "metadata": {},
   "outputs": [
    {
     "data": {
      "image/png": "[encoded data removed]",
      "text/plain": [
       "<Figure size 1000x500 with 1 Axes>"
      ]
     },
     "metadata": {},
     "output_type": "display_data"
    }
   ],
   "source": [
    "registro_por_fecha = df.groupby(df['Fecha_Registro'].dt.date).size()\n",
    "import matplotlib.pyplot as plt\n",
    "\n",
    "plt.figure(figsize=(10, 5))\n",
    "plt.plot(registro_por_fecha.index, registro_por_fecha.values, marker='o', linestyle='-')\n",
    "plt.title('Evolución de registros en el tiempo')\n",
    "plt.xlabel('Fecha de registro')\n",
    "plt.ylabel('Cantidad de registros')\n",
    "plt.xticks(rotation=45)\n",
    "plt.grid(True)\n",
    "plt.tight_layout()\n",
    "plt.show()\n",
    "\n",
    "\n"
   ]
  },
  {
   "cell_type": "markdown",
   "id": "8aabf408",
   "metadata": {},
   "source": [
    "### Otros Gráficos Opcionales\n",
    "Para enriquecer la clase, puedes proponer ejercicios adicionales como:\n",
    "\n",
    "Gráfico de dispersión: Relacionar Edad vs. Ingresos para ver posibles tendencias."
   ]
  },
  {
   "cell_type": "code",
   "execution_count": null,
   "id": "1675c84b",
   "metadata": {},
   "outputs": [
    {
     "data": {
      "image/png": "[encoded data removed]",
      "text/plain": [
       "<Figure size 1000x500 with 1 Axes>"
      ]
     },
     "metadata": {},
     "output_type": "display_data"
    }
   ],
   "source": [
    "registro_por_fecha = df.groupby(df['Fecha_Registro'].dt.date).size()\n",
    "import matplotlib.pyplot as plt\n",
    "# Agrupar por mes (podés cambiar a 'D' para días, 'W' para semanas)\n",
    "conteo_por_mes = df.groupby(df['Fecha_Registro'].dt.to_period('D')).size()\n",
    "\n",
    "# Convertir el índice a timestamp para graficar\n",
    "conteo_por_mes.index = conteo_por_mes.index.to_timestamp()\n",
    "\n",
    "# Graficar como histograma de barras (porque son fechas categóricas)\n",
    "plt.figure(figsize=(9, 5))\n",
    "plt.bar(conteo_por_mes.index, conteo_por_mes.values, width=20, color='skyblue')\n",
    "plt.title('Histograma de registros por mes')\n",
    "plt.xlabel('Mes')\n",
    "plt.ylabel('Cantidad de registros')\n",
    "plt.xticks(rotation=45)\n",
    "plt.tight_layout()\n",
    "plt.grid(True)\n",
    "plt.show()\n"
   ]
  },
  {
   "cell_type": "markdown",
   "id": "73ed5fc1",
   "metadata": {},
   "source": [
    "Gráfico de pastel: Proporción de clientes por género."
   ]
  },
  {
   "cell_type": "code",
   "execution_count": 205,
   "id": "62912227",
   "metadata": {},
   "outputs": [
    {
     "data": {
      "image/png": "[encoded data removed]",
      "text/plain": [
       "<Figure size 600x600 with 1 Axes>"
      ]
     },
     "metadata": {},
     "output_type": "display_data"
    }
   ],
   "source": [
    "conteo_por_genero = df['Genero'].value_counts()\n",
    "\n",
    "\n",
    "\n",
    "plt.figure(figsize=(6, 6))\n",
    "plt.pie(\n",
    "    conteo_por_genero,\n",
    "    labels=conteo_por_genero.index,\n",
    "    autopct='%1.1f%%',\n",
    "    startangle=90,\n",
    "    colors=['lightblue', 'lightcoral']  # Personalizá colores\n",
    ")\n",
    "plt.title('Distribución por género')\n",
    "plt.axis('equal')  # Hace que el círculo esté bien proporcionado\n",
    "plt.tight_layout()\n",
    "plt.show()\n"
   ]
  }
 ],
 "metadata": {
  "kernelspec": {
   "display_name": "Python 3",
   "language": "python",
   "name": "python3"
  },
  "language_info": {
   "codemirror_mode": {
    "name": "ipython",
    "version": 3
   },
   "file_extension": ".py",
   "mimetype": "text/x-python",
   "name": "python",
   "nbconvert_exporter": "python",
   "pygments_lexer": "ipython3",
   "version": "3.12.9"
  }
 },
 "nbformat": 4,
 "nbformat_minor": 5
}
