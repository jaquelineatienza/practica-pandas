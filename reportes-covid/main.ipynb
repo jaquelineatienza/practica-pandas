{
 "cells": [
  {
   "cell_type": "code",
   "execution_count": null,
   "id": "8cbb1e2c",
   "metadata": {},
   "outputs": [],
   "source": [
    "import pandas as pd\n",
    "import matplotlib as plt"
   ]
  }
 ],
 "metadata": {
  "language_info": {
   "name": "python"
  }
 },
 "nbformat": 4,
 "nbformat_minor": 5
}
